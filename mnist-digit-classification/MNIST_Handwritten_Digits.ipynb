{
 "cells": [
  {
   "cell_type": "markdown",
   "metadata": {},
   "source": [
    "# Introduction\n",
    "\n",
    "In this project, you will build a neural network of your own design to evaluate the MNIST dataset.\n",
    "\n",
    "Some of the benchmark results on MNIST include can be found [on Yann LeCun's page](https://webcache.googleusercontent.com/search?q=cache:stAVPik6onEJ:yann.lecun.com/exdb/mnist) and include:\n",
    "\n",
    "88% [Lecun et al., 1998](https://hal.science/hal-03926082/document)\n",
    "\n",
    "95.3% [Lecun et al., 1998](https://hal.science/hal-03926082v1/document)\n",
    "\n",
    "99.65% [Ciresan et al., 2011](http://people.idsia.ch/~juergen/ijcai2011.pdf)\n",
    "\n",
    "\n",
    "MNIST is a great dataset for sanity checking your models, since the accuracy levels achieved by large convolutional neural networks and small linear models are both quite high. This makes it important to be familiar with the data.\n",
    "\n",
    "## Installation"
   ]
  },
  {
   "cell_type": "code",
   "execution_count": null,
   "metadata": {},
   "outputs": [],
   "source": [
    "# Update the PATH to include the user installation directory. \n",
    "import os\n",
    "os.environ['PATH'] = f\"{os.environ['PATH']}:/root/.local/bin\"\n",
    "\n",
    "# Restart the Kernel before you move on to the next step."
   ]
  },
  {
   "cell_type": "markdown",
   "metadata": {},
   "source": [
    "#### Important: Restart the Kernel before you move on to the next step."
   ]
  },
  {
   "cell_type": "code",
   "execution_count": 1,
   "metadata": {},
   "outputs": [
    {
     "name": "stdout",
     "output_type": "stream",
     "text": [
      "\u001b[31mERROR: Could not open requirements file: [Errno 2] No such file or directory: 'requirements.txt'\u001b[0m\u001b[31m\n",
      "\u001b[0m"
     ]
    }
   ],
   "source": [
    "# Install requirements\n",
    "!python -m pip install -r requirements.txt"
   ]
  },
  {
   "cell_type": "markdown",
   "metadata": {},
   "source": [
    "## Imports"
   ]
  },
  {
   "cell_type": "code",
   "execution_count": 2,
   "metadata": {},
   "outputs": [
    {
     "name": "stderr",
     "output_type": "stream",
     "text": [
      "/Users/omarnagy/Downloads/migration/.conda/lib/python3.10/site-packages/tqdm/auto.py:21: TqdmWarning: IProgress not found. Please update jupyter and ipywidgets. See https://ipywidgets.readthedocs.io/en/stable/user_install.html\n",
      "  from .autonotebook import tqdm as notebook_tqdm\n"
     ]
    }
   ],
   "source": [
    "## This cell contains the essential imports you will need – DO NOT CHANGE THE CONTENTS! ##\n",
    "import torch\n",
    "import torch.nn as nn\n",
    "import torch.nn.functional as F\n",
    "import torch.optim as optim\n",
    "import torchvision\n",
    "import torchvision.transforms as transforms\n",
    "import matplotlib.pyplot as plt\n",
    "import numpy as np\n",
    "from torch.utils.data import DataLoader"
   ]
  },
  {
   "cell_type": "code",
   "execution_count": 3,
   "metadata": {},
   "outputs": [
    {
     "name": "stdout",
     "output_type": "stream",
     "text": [
      "/Users/omarnagy/Downloads/migration/Udacity_ML_Fundamentals/third project\n"
     ]
    }
   ],
   "source": [
    "import os\n",
    "print(os.getcwd())"
   ]
  },
  {
   "cell_type": "markdown",
   "metadata": {},
   "source": [
    "## Load the Dataset\n",
    "\n",
    "Specify your transforms as a list if you intend to .\n",
    "The transforms module is already loaded as `transforms`.\n",
    "\n",
    "MNIST is fortunately included in the torchvision module.\n",
    "Then, you can create your dataset using the `MNIST` object from `torchvision.datasets` ([the documentation is available here](https://pytorch.org/vision/stable/datasets.html#mnist)).\n",
    "Make sure to specify `download=True`! \n",
    "\n",
    "Once your dataset is created, you'll also need to define a `DataLoader` from the `torch.utils.data` module for both the train and the test set."
   ]
  },
  {
   "cell_type": "code",
   "execution_count": null,
   "metadata": {},
   "outputs": [
    {
     "name": "stdout",
     "output_type": "stream",
     "text": [
      "tensor([1.], device='mps:0')\n"
     ]
    }
   ],
   "source": [
    "\n",
    "# Check if MPS device is available\n",
    "if torch.backends.mps.is_available():\n",
    "    mps_device = torch.device(\"mps\")\n",
    "    x = torch.ones(1, device=mps_device)\n",
    "    print (x)\n",
    "else:\n",
    "    print (\"MPS device not found.\")\n",
    "\n",
    "\n",
    "\n",
    "\n",
    "# Define transforms\n",
    "transform = transforms.Compose([\n",
    "    transforms.ToTensor(),\n",
    "    transforms.Normalize((0.5, ), (0.5, )),\n",
    "    transforms.Lambda(lambda x: torch.flatten(x)),\n",
    "])\n",
    "\n",
    "# Create training set and define training dataloader\n",
    "trainset = torchvision.datasets.MNIST(root='/Users/omarnagy/Downloads/migration/Udacity_ML_Fundamentals/third project/MINST_Dataset', train=True, download=True, transform=transform)\n",
    "train_loader = DataLoader(trainset, batch_size=2048, shuffle=True)\n",
    "\n",
    "# Create test set and define test dataloader\n",
    "testset = torchvision.datasets.MNIST(root='/Users/omarnagy/Downloads/migration/Udacity_ML_Fundamentals/third project/MINST_Dataset', train=False, download=True, transform=transform)\n",
    "test_loader = DataLoader(testset, batch_size=2048, shuffle=False)\n"
   ]
  },
  {
   "cell_type": "code",
   "execution_count": 80,
   "metadata": {},
   "outputs": [
    {
     "name": "stdout",
     "output_type": "stream",
     "text": [
      "Training set contains 60000 images\n",
      "Test set contains 10000 images\n",
      "Test loader contains 10000 images\n"
     ]
    }
   ],
   "source": [
    "print(\"Training set contains {} images\".format(len(trainset)))\n",
    "print(\"Test set contains {} images\".format(len(testset)))\n",
    "print(\"Test loader contains {} images\".format(len(test_loader.dataset)))"
   ]
  },
  {
   "cell_type": "markdown",
   "metadata": {},
   "source": [
    "## Justify your preprocessing\n",
    "\n",
    "In your own words, why did you choose the transforms you chose? If you didn't use any preprocessing steps, why not?"
   ]
  },
  {
   "cell_type": "markdown",
   "metadata": {},
   "source": [
    "Normalize the pixel values to have a mean of 0.5 and a standard deviation of 0.5. This helps in stabilizing and accelerating the training process. and converting it into tensors help scaling the pixel values from [0, 255] to [0, 1] which makes the calculations easier. and flatten just flattens the input tensor to be one dimensional which is needed as being the input to the deep neural network."
   ]
  },
  {
   "cell_type": "markdown",
   "metadata": {},
   "source": [
    "## Explore the Dataset\n",
    "Using matplotlib, numpy, and torch, explore the dimensions of your data.\n",
    "\n",
    "You can view images using the `show5` function defined below – it takes a data loader as an argument.\n",
    "Remember that normalized images will look really weird to you! You may want to try changing your transforms to view images.\n",
    "Typically using no transforms other than `toTensor()` works well for viewing – but not as well for training your network.\n",
    "If `show5` doesn't work, go back and check your code for creating your data loaders and your training/test sets."
   ]
  },
  {
   "cell_type": "code",
   "execution_count": 21,
   "metadata": {},
   "outputs": [],
   "source": [
    "## This cell contains a function for showing 5 images from a dataloader – DO NOT CHANGE THE CONTENTS! ##\n",
    "\n",
    "def show5(img_loader):\n",
    "    dataiter = iter(img_loader)\n",
    "    batch = next(dataiter)\n",
    "    labels = batch[1][0:5]\n",
    "    images = batch[0][0:5]\n",
    "    for i in range(5):\n",
    "        print(int(labels[i].detach()))\n",
    "        image = images[i].numpy()\n",
    "        plt.imshow(image.T.squeeze().T)\n",
    "        plt.show()\n"
   ]
  },
  {
   "cell_type": "code",
   "execution_count": null,
   "metadata": {},
   "outputs": [],
   "source": [
    "# Explore data\n",
    "show5(train_loader)"
   ]
  },
  {
   "cell_type": "markdown",
   "metadata": {},
   "source": [
    "## Build your Neural Network\n",
    "Using the layers in `torch.nn` (which has been imported as `nn`) and the `torch.nn.functional` module (imported as `F`), construct a neural network based on the parameters of the dataset.\n",
    "Use any architecture you like. \n",
    "\n",
    "*Note*: If you did not flatten your tensors in your transforms or as part of your preprocessing and you are using only `Linear` layers, make sure to use the `Flatten` layer in your network!"
   ]
  },
  {
   "cell_type": "code",
   "execution_count": 119,
   "metadata": {},
   "outputs": [
    {
     "data": {
      "text/plain": [
       "Net(\n",
       "  (fc1): Linear(in_features=784, out_features=128, bias=True)\n",
       "  (fc2): Linear(in_features=128, out_features=64, bias=True)\n",
       "  (fc3): Linear(in_features=64, out_features=10, bias=True)\n",
       ")"
      ]
     },
     "execution_count": 119,
     "metadata": {},
     "output_type": "execute_result"
    }
   ],
   "source": [
    "# define the class for the neural network\n",
    "class Net(nn.Module):\n",
    "    def __init__(self):\n",
    "        super().__init__()\n",
    "        self.fc1 = nn.Linear(784, 128)\n",
    "        self.fc2 = nn.Linear(128, 64)\n",
    "        self.fc3 = nn.Linear(64, 10)\n",
    "        self.output = F.log_softmax\n",
    "        \n",
    "    def forward(self, x):\n",
    "        x = F.relu(self.fc1(x))\n",
    "        x = F.relu(self.fc2(x))\n",
    "        #x = self.output(self.fc3(x), dim=1) \n",
    "        x = self.fc3(x)\n",
    "        return x\n",
    "    \n",
    "# Create an instance of the model\n",
    "model = Net()\n",
    "\n",
    "# upload the model to the mps device\n",
    "model.to('mps')"
   ]
  },
  {
   "cell_type": "markdown",
   "metadata": {},
   "source": [
    "Specify a loss function and an optimizer, and instantiate the model.\n",
    "\n",
    "If you use a less common loss function, please note why you chose that loss function in a comment."
   ]
  },
  {
   "cell_type": "code",
   "execution_count": 106,
   "metadata": {},
   "outputs": [],
   "source": [
    "loss_function = nn.CrossEntropyLoss() # multi-class classification\n",
    "\n",
    "optimizer = optim.Adam(model.parameters(), lr=0.0001)\n",
    "\n",
    "#optimizer = optim.SGD(model.parameters(), lr=0.001, momentum=0.9)\n",
    "#optimizer = optim.RMSprop(model.parameters(), lr=0.001)"
   ]
  },
  {
   "cell_type": "code",
   "execution_count": 54,
   "metadata": {},
   "outputs": [],
   "source": [
    "def print_statistics_for_interval(i, epoch, running_loss, running_correct, running_total):\n",
    "\n",
    "    # Print statistics every 250 batches\n",
    "    if (i + 1) % 250 == 0:\n",
    "        # Calculate and print the average loss and accuracy for the last 250 batches\n",
    "        interval_loss = running_loss / 250\n",
    "        interval_accuracy = 100 * running_correct / running_total\n",
    "\n",
    "        print(f\"Epoch: {epoch + 1}, Batch: {i + 1}, Loss: {interval_loss:.4f}, Accuracy: {interval_accuracy:.2f}%\")\n",
    "\n",
    "        # Reset running totals for the next interval\n",
    "        running_correct = 0\n",
    "        running_total = 0"
   ]
  },
  {
   "cell_type": "code",
   "execution_count": 94,
   "metadata": {},
   "outputs": [],
   "source": [
    "def print_statistics_for_epoch(epoch, train_loss_history, train_correct, train_loss):\n",
    "\n",
    "    print(f\"{train_correct} of {len(train_loader.dataset)} are correct\")\n",
    "    print(f'Epoch {epoch + 1} training accuracy: {(train_correct/len(train_loader.dataset))*100:.2f}% training loss: {(train_loss/len(train_loader.dataset))*100:.5f}')\n",
    "    print()\n",
    "    # Append the loss to the history\n",
    "    train_loss_history.append(train_loss/len(train_loader))"
   ]
  },
  {
   "cell_type": "code",
   "execution_count": 95,
   "metadata": {},
   "outputs": [],
   "source": [
    "def validate_model(test_loader, model, loss_function, val_loss_history, epoch):\n",
    "    val_loss = 0.0\n",
    "    val_correct = 0\n",
    "    model.eval()\n",
    "    \n",
    "    for inputs, labels in test_loader:\n",
    "        inputs, labels = inputs.to('mps'), labels.to('mps')\n",
    "\n",
    "        outputs = model(inputs)\n",
    "        loss = loss_function(outputs, labels)\n",
    "\n",
    "        _, preds = torch.max(outputs, 1)        \n",
    "        val_correct += (preds == labels).sum().item()\n",
    "        val_loss += loss.item()\n",
    "    \n",
    "    print(f\"{val_correct} of {len(test_loader.dataset)} are correct\")\n",
    "    print(f'Epoch {epoch + 1} validation accuracy: {(val_correct/len(test_loader.dataset))*100:.2f}% validation loss: {(val_loss/len(test_loader.dataset))*100:.5f}')\n",
    "    print()\n",
    "    # Append the validation loss to the validation loss history\n",
    "    val_loss_history.append(val_loss/len(test_loader))"
   ]
  },
  {
   "cell_type": "markdown",
   "metadata": {},
   "source": [
    "## Running your Neural Network\n",
    "Use whatever method you like to train your neural network, and ensure you record the average loss at each epoch. \n",
    "Don't forget to use `torch.device()` and the `.to()` method for both your model and your data if you are using GPU!\n",
    "\n",
    "If you want to print your loss **during** each epoch, you can use the `enumerate` function and print the loss after a set number of batches. 250 batches works well for most people!"
   ]
  },
  {
   "cell_type": "code",
   "execution_count": 120,
   "metadata": {},
   "outputs": [
    {
     "name": "stdout",
     "output_type": "stream",
     "text": [
      "4247 of 60000 are correct\n",
      "Epoch 1 training accuracy: 7.08% training loss: 0.45314\n",
      "\n",
      "745 of 10000 are correct\n",
      "Epoch 1 validation accuracy: 7.45% validation loss: 0.46065\n",
      "\n",
      "4247 of 60000 are correct\n",
      "Epoch 2 training accuracy: 7.08% training loss: 0.45316\n",
      "\n",
      "745 of 10000 are correct\n",
      "Epoch 2 validation accuracy: 7.45% validation loss: 0.46065\n",
      "\n",
      "4247 of 60000 are correct\n",
      "Epoch 3 training accuracy: 7.08% training loss: 0.45319\n",
      "\n",
      "745 of 10000 are correct\n",
      "Epoch 3 validation accuracy: 7.45% validation loss: 0.46065\n",
      "\n",
      "4247 of 60000 are correct\n",
      "Epoch 4 training accuracy: 7.08% training loss: 0.45317\n",
      "\n",
      "745 of 10000 are correct\n",
      "Epoch 4 validation accuracy: 7.45% validation loss: 0.46065\n",
      "\n",
      "4247 of 60000 are correct\n",
      "Epoch 5 training accuracy: 7.08% training loss: 0.45315\n",
      "\n",
      "745 of 10000 are correct\n",
      "Epoch 5 validation accuracy: 7.45% validation loss: 0.46065\n",
      "\n",
      "4247 of 60000 are correct\n",
      "Epoch 6 training accuracy: 7.08% training loss: 0.45313\n",
      "\n",
      "745 of 10000 are correct\n",
      "Epoch 6 validation accuracy: 7.45% validation loss: 0.46065\n",
      "\n",
      "4247 of 60000 are correct\n",
      "Epoch 7 training accuracy: 7.08% training loss: 0.45318\n",
      "\n",
      "745 of 10000 are correct\n",
      "Epoch 7 validation accuracy: 7.45% validation loss: 0.46065\n",
      "\n",
      "4247 of 60000 are correct\n",
      "Epoch 8 training accuracy: 7.08% training loss: 0.45315\n",
      "\n",
      "745 of 10000 are correct\n",
      "Epoch 8 validation accuracy: 7.45% validation loss: 0.46065\n",
      "\n",
      "4247 of 60000 are correct\n",
      "Epoch 9 training accuracy: 7.08% training loss: 0.45315\n",
      "\n",
      "745 of 10000 are correct\n",
      "Epoch 9 validation accuracy: 7.45% validation loss: 0.46065\n",
      "\n",
      "4247 of 60000 are correct\n",
      "Epoch 10 training accuracy: 7.08% training loss: 0.45314\n",
      "\n",
      "745 of 10000 are correct\n",
      "Epoch 10 validation accuracy: 7.45% validation loss: 0.46065\n",
      "\n",
      "4247 of 60000 are correct\n",
      "Epoch 11 training accuracy: 7.08% training loss: 0.45317\n",
      "\n",
      "745 of 10000 are correct\n",
      "Epoch 11 validation accuracy: 7.45% validation loss: 0.46065\n",
      "\n",
      "4247 of 60000 are correct\n",
      "Epoch 12 training accuracy: 7.08% training loss: 0.45317\n",
      "\n",
      "745 of 10000 are correct\n",
      "Epoch 12 validation accuracy: 7.45% validation loss: 0.46065\n",
      "\n",
      "4247 of 60000 are correct\n",
      "Epoch 13 training accuracy: 7.08% training loss: 0.45315\n",
      "\n",
      "745 of 10000 are correct\n",
      "Epoch 13 validation accuracy: 7.45% validation loss: 0.46065\n",
      "\n",
      "4247 of 60000 are correct\n",
      "Epoch 14 training accuracy: 7.08% training loss: 0.45317\n",
      "\n",
      "745 of 10000 are correct\n",
      "Epoch 14 validation accuracy: 7.45% validation loss: 0.46065\n",
      "\n",
      "4247 of 60000 are correct\n",
      "Epoch 15 training accuracy: 7.08% training loss: 0.45315\n",
      "\n",
      "745 of 10000 are correct\n",
      "Epoch 15 validation accuracy: 7.45% validation loss: 0.46065\n",
      "\n",
      "4247 of 60000 are correct\n",
      "Epoch 16 training accuracy: 7.08% training loss: 0.45315\n",
      "\n",
      "745 of 10000 are correct\n",
      "Epoch 16 validation accuracy: 7.45% validation loss: 0.46065\n",
      "\n",
      "4247 of 60000 are correct\n",
      "Epoch 17 training accuracy: 7.08% training loss: 0.45314\n",
      "\n",
      "745 of 10000 are correct\n",
      "Epoch 17 validation accuracy: 7.45% validation loss: 0.46065\n",
      "\n",
      "4247 of 60000 are correct\n",
      "Epoch 18 training accuracy: 7.08% training loss: 0.45314\n",
      "\n",
      "745 of 10000 are correct\n",
      "Epoch 18 validation accuracy: 7.45% validation loss: 0.46065\n",
      "\n",
      "4247 of 60000 are correct\n",
      "Epoch 19 training accuracy: 7.08% training loss: 0.45314\n",
      "\n",
      "745 of 10000 are correct\n",
      "Epoch 19 validation accuracy: 7.45% validation loss: 0.46065\n",
      "\n",
      "4247 of 60000 are correct\n",
      "Epoch 20 training accuracy: 7.08% training loss: 0.45315\n",
      "\n",
      "745 of 10000 are correct\n",
      "Epoch 20 validation accuracy: 7.45% validation loss: 0.46065\n",
      "\n"
     ]
    }
   ],
   "source": [
    "# Train the model on the mps device and print the loss during each epoch in the training process using 250 batches \n",
    "num_epochs = 20\n",
    "\n",
    "# Establish a list for our history\n",
    "train_loss_history = list()\n",
    "val_loss_history = list()\n",
    "\n",
    "for epoch in range(num_epochs):\n",
    "    model.train()\n",
    "    train_loss = 0.0\n",
    "    train_correct = 0\n",
    "    running_loss = 0.0\n",
    "    running_correct = 0\n",
    "    running_total = 0\n",
    "    \n",
    "    for i, data in enumerate(train_loader):\n",
    "        # extract the inputs and labels from the data\n",
    "        inputs, labels = data\n",
    "        \n",
    "        # upload the inputs and labels to the mps device\n",
    "        inputs, labels = inputs.to('mps'), labels.to('mps')\n",
    "        \n",
    "        # zero the parameter gradients\n",
    "        optimizer.zero_grad()\n",
    "        \n",
    "        # forward + backward\n",
    "        outputs = model(inputs)\n",
    "        loss = loss_function(outputs, labels)\n",
    "        loss.backward()\n",
    "        \n",
    "        # update the weights\n",
    "        optimizer.step()\n",
    "        \n",
    "        # Accumulate loss\n",
    "        running_loss += loss.item()\n",
    "        \n",
    "        '''\n",
    "        # Compute predictions and accuracy\n",
    "        _, preds = torch.max(outputs.data, 1)\n",
    "        running_correct += (preds == labels).sum().item()\n",
    "        running_total += labels.size(0)\n",
    "        # Print statistics every 250 batches\n",
    "        print_statistics_for_interval(i, epoch, running_loss, running_correct, running_total)\n",
    "        '''\n",
    "        \n",
    "        # Compute the accuracy and print the accuracy and loss\n",
    "        _, preds = torch.max(outputs.data, 1)\n",
    "        train_correct += (preds == labels).sum().item()\n",
    "        train_loss += loss.item()\n",
    "        \n",
    "    # Print statistics for the epoch    \n",
    "    print_statistics_for_epoch(epoch, train_loss_history, train_correct, train_loss)\n",
    "    \n",
    "    # Validate the model\n",
    "    validate_model(test_loader, model, loss_function, val_loss_history, epoch)  "
   ]
  },
  {
   "cell_type": "markdown",
   "metadata": {},
   "source": [
    "Plot the training loss (and validation loss/accuracy, if recorded)."
   ]
  },
  {
   "cell_type": "code",
   "execution_count": 110,
   "metadata": {},
   "outputs": [
    {
     "data": {
      "image/png": "[encoded data removed]",
      "text/plain": [
       "<Figure size 640x480 with 1 Axes>"
      ]
     },
     "metadata": {},
     "output_type": "display_data"
    }
   ],
   "source": [
    "# Plot the training and validation loss\n",
    "plt.plot(train_loss_history, label='Training loss')\n",
    "plt.plot(val_loss_history, label='Validation loss')\n",
    "plt.legend()\n",
    "plt.show()\n"
   ]
  },
  {
   "cell_type": "markdown",
   "metadata": {},
   "source": [
    "## Testing your model\n",
    "Using the previously created `DataLoader` for the test set, compute the percentage of correct predictions using the highest probability prediction. \n",
    "\n",
    "If your accuracy is over 90%, great work, but see if you can push a bit further! \n",
    "If your accuracy is under 90%, you'll need to make improvements.\n",
    "Go back and check your model architecture, loss function, and optimizer to make sure they're appropriate for an image classification task."
   ]
  },
  {
   "cell_type": "code",
   "execution_count": null,
   "metadata": {},
   "outputs": [],
   "source": [
    "# already done above"
   ]
  },
  {
   "cell_type": "markdown",
   "metadata": {},
   "source": [
    "## Improving your model\n",
    "\n",
    "Once your model is done training, try tweaking your hyperparameters and training again below to improve your accuracy on the test set!"
   ]
  },
  {
   "cell_type": "code",
   "execution_count": 115,
   "metadata": {},
   "outputs": [
    {
     "name": "stdout",
     "output_type": "stream",
     "text": [
      "59995 of 60000 are correct\n",
      "Epoch 1 training accuracy: 99.99% training loss: 0.00004\n",
      "\n",
      "9803 of 10000 are correct\n",
      "Epoch 1 validation accuracy: 98.03% validation loss: 0.06546\n",
      "\n",
      "59995 of 60000 are correct\n",
      "Epoch 2 training accuracy: 99.99% training loss: 0.00004\n",
      "\n",
      "9804 of 10000 are correct\n",
      "Epoch 2 validation accuracy: 98.04% validation loss: 0.06510\n",
      "\n",
      "59995 of 60000 are correct\n",
      "Epoch 3 training accuracy: 99.99% training loss: 0.00004\n",
      "\n",
      "9797 of 10000 are correct\n",
      "Epoch 3 validation accuracy: 97.97% validation loss: 0.06601\n",
      "\n",
      "59995 of 60000 are correct\n",
      "Epoch 4 training accuracy: 99.99% training loss: 0.00005\n",
      "\n",
      "9804 of 10000 are correct\n",
      "Epoch 4 validation accuracy: 98.04% validation loss: 0.06493\n",
      "\n",
      "59997 of 60000 are correct\n",
      "Epoch 5 training accuracy: 100.00% training loss: 0.00004\n",
      "\n",
      "9803 of 10000 are correct\n",
      "Epoch 5 validation accuracy: 98.03% validation loss: 0.06543\n",
      "\n",
      "59997 of 60000 are correct\n",
      "Epoch 6 training accuracy: 100.00% training loss: 0.00004\n",
      "\n",
      "9803 of 10000 are correct\n",
      "Epoch 6 validation accuracy: 98.03% validation loss: 0.06595\n",
      "\n",
      "59997 of 60000 are correct\n",
      "Epoch 7 training accuracy: 100.00% training loss: 0.00003\n",
      "\n",
      "9802 of 10000 are correct\n",
      "Epoch 7 validation accuracy: 98.02% validation loss: 0.06645\n",
      "\n",
      "59998 of 60000 are correct\n",
      "Epoch 8 training accuracy: 100.00% training loss: 0.00003\n",
      "\n",
      "9804 of 10000 are correct\n",
      "Epoch 8 validation accuracy: 98.04% validation loss: 0.06658\n",
      "\n",
      "59997 of 60000 are correct\n",
      "Epoch 9 training accuracy: 100.00% training loss: 0.00003\n",
      "\n",
      "9807 of 10000 are correct\n",
      "Epoch 9 validation accuracy: 98.07% validation loss: 0.06689\n",
      "\n",
      "59998 of 60000 are correct\n",
      "Epoch 10 training accuracy: 100.00% training loss: 0.00003\n",
      "\n",
      "9807 of 10000 are correct\n",
      "Epoch 10 validation accuracy: 98.07% validation loss: 0.06698\n",
      "\n",
      "59997 of 60000 are correct\n",
      "Epoch 11 training accuracy: 100.00% training loss: 0.00003\n",
      "\n",
      "9806 of 10000 are correct\n",
      "Epoch 11 validation accuracy: 98.06% validation loss: 0.06745\n",
      "\n",
      "59997 of 60000 are correct\n",
      "Epoch 12 training accuracy: 100.00% training loss: 0.00003\n",
      "\n",
      "9807 of 10000 are correct\n",
      "Epoch 12 validation accuracy: 98.07% validation loss: 0.06723\n",
      "\n",
      "59998 of 60000 are correct\n",
      "Epoch 13 training accuracy: 100.00% training loss: 0.00003\n",
      "\n",
      "9809 of 10000 are correct\n",
      "Epoch 13 validation accuracy: 98.09% validation loss: 0.06765\n",
      "\n",
      "59998 of 60000 are correct\n",
      "Epoch 14 training accuracy: 100.00% training loss: 0.00003\n",
      "\n",
      "9808 of 10000 are correct\n",
      "Epoch 14 validation accuracy: 98.08% validation loss: 0.06772\n",
      "\n",
      "59998 of 60000 are correct\n",
      "Epoch 15 training accuracy: 100.00% training loss: 0.00003\n",
      "\n",
      "9804 of 10000 are correct\n",
      "Epoch 15 validation accuracy: 98.04% validation loss: 0.06810\n",
      "\n",
      "59998 of 60000 are correct\n",
      "Epoch 16 training accuracy: 100.00% training loss: 0.00003\n",
      "\n",
      "9805 of 10000 are correct\n",
      "Epoch 16 validation accuracy: 98.05% validation loss: 0.06796\n",
      "\n",
      "59998 of 60000 are correct\n",
      "Epoch 17 training accuracy: 100.00% training loss: 0.00003\n",
      "\n",
      "9806 of 10000 are correct\n",
      "Epoch 17 validation accuracy: 98.06% validation loss: 0.06824\n",
      "\n",
      "59998 of 60000 are correct\n",
      "Epoch 18 training accuracy: 100.00% training loss: 0.00003\n",
      "\n",
      "9806 of 10000 are correct\n",
      "Epoch 18 validation accuracy: 98.06% validation loss: 0.06847\n",
      "\n",
      "59998 of 60000 are correct\n",
      "Epoch 19 training accuracy: 100.00% training loss: 0.00003\n",
      "\n",
      "9807 of 10000 are correct\n",
      "Epoch 19 validation accuracy: 98.07% validation loss: 0.06860\n",
      "\n",
      "59998 of 60000 are correct\n",
      "Epoch 20 training accuracy: 100.00% training loss: 0.00003\n",
      "\n",
      "9807 of 10000 are correct\n",
      "Epoch 20 validation accuracy: 98.07% validation loss: 0.06873\n",
      "\n"
     ]
    }
   ],
   "source": [
    "# tbh I don't know what to do here, I'm just going to copy the code from the previous cell as I already chaged hyperparameters and the optimizer once and I got 98.09% accuracy..... so I'm just going to copy the code and run it again.\n",
    "\n",
    "num_epochs = 20\n",
    "\n",
    "# Establish a list for our history\n",
    "train_loss_history = list()\n",
    "val_loss_history = list()\n",
    "\n",
    "for epoch in range(num_epochs):\n",
    "    model.train()\n",
    "    train_loss = 0.0\n",
    "    train_correct = 0\n",
    "    running_loss = 0.0\n",
    "    running_correct = 0\n",
    "    running_total = 0\n",
    "    \n",
    "    for i, data in enumerate(train_loader):\n",
    "        # extract the inputs and labels from the data\n",
    "        inputs, labels = data\n",
    "        \n",
    "        # upload the inputs and labels to the mps device\n",
    "        inputs, labels = inputs.to('mps'), labels.to('mps')\n",
    "        \n",
    "        # zero the parameter gradients\n",
    "        optimizer.zero_grad()\n",
    "        \n",
    "        # forward + backward\n",
    "        outputs = model(inputs)\n",
    "        loss = loss_function(outputs, labels)\n",
    "        loss.backward()\n",
    "        \n",
    "        # update the weights\n",
    "        optimizer.step()\n",
    "        \n",
    "        # Accumulate loss\n",
    "        running_loss += loss.item()\n",
    "        \n",
    "        '''\n",
    "        # Compute predictions and accuracy\n",
    "        _, preds = torch.max(outputs.data, 1)\n",
    "        running_correct += (preds == labels).sum().item()\n",
    "        running_total += labels.size(0)\n",
    "        # Print statistics every 250 batches\n",
    "        print_statistics_for_interval(i, epoch, running_loss, running_correct, running_total)\n",
    "        '''\n",
    "        \n",
    "        # Compute the accuracy and print the accuracy and loss\n",
    "        _, preds = torch.max(outputs.data, 1)\n",
    "        train_correct += (preds == labels).sum().item()\n",
    "        train_loss += loss.item()\n",
    "        \n",
    "    # Print statistics for the epoch    \n",
    "    print_statistics_for_epoch(epoch, train_loss_history, train_correct, train_loss)\n",
    "    \n",
    "    # Validate the model\n",
    "    validate_model(test_loader, model, loss_function, val_loss_history, epoch)"
   ]
  },
  {
   "cell_type": "markdown",
   "metadata": {},
   "source": [
    "## Saving your model\n",
    "Using `torch.save`, save your model for future loading."
   ]
  },
  {
   "cell_type": "code",
   "execution_count": 116,
   "metadata": {},
   "outputs": [],
   "source": [
    "# save the model\n",
    "torch.save(model.state_dict(), 'model01.pth')"
   ]
  },
  {
   "cell_type": "code",
   "execution_count": 117,
   "metadata": {},
   "outputs": [
    {
     "name": "stdout",
     "output_type": "stream",
     "text": [
      "Accuracy of the network on the 10000 test images: 98.07%\n"
     ]
    }
   ],
   "source": [
    "# Just to make sure that the model is saved correctly, I'm going to load the model and test it on the test set.\n",
    "\n",
    "# load the model\n",
    "model = Net()\n",
    "model.load_state_dict(torch.load('model01.pth'))\n",
    "model.to('mps')\n",
    "model.eval()\n",
    "\n",
    "# test the model\n",
    "correct = 0\n",
    "total = 0\n",
    "with torch.no_grad():\n",
    "    for data in test_loader:\n",
    "        images, labels = data\n",
    "        images, labels = images.to('mps'), labels.to('mps')\n",
    "        outputs = model(images)\n",
    "        _, predicted = torch.max(outputs.data, 1)\n",
    "        total += labels.size(0)\n",
    "        correct += (predicted == labels).sum().item()\n",
    "\n",
    "print(f'Accuracy of the network on the 10000 test images: {100 * correct / total}%')\n"
   ]
  }
 ],
 "metadata": {
  "kernelspec": {
   "display_name": "Python 3",
   "language": "python",
   "name": "python3"
  },
  "language_info": {
   "codemirror_mode": {
    "name": "ipython",
    "version": 3
   },
   "file_extension": ".py",
   "mimetype": "text/x-python",
   "name": "python",
   "nbconvert_exporter": "python",
   "pygments_lexer": "ipython3",
   "version": "3.10.13"
  }
 },
 "nbformat": 4,
 "nbformat_minor": 4
}
